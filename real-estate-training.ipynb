{
 "cells": [
  {
   "cell_type": "code",
   "execution_count": null,
   "id": "incomplete-aruba",
   "metadata": {},
   "outputs": [],
   "source": [
    "import pandas as pd\n",
    "import numpy as np\n",
    "import matplotlib.pyplot as plt\n",
    "import matplotlib\n",
    "import itertools\n",
    "import seaborn as sns"
   ]
  },
  {
   "cell_type": "code",
   "execution_count": null,
   "id": "better-disco",
   "metadata": {},
   "outputs": [],
   "source": [
    "df=pd.read_parquet('data/data_clean.parquet')\n",
    "df.head()"
   ]
  },
  {
   "cell_type": "code",
   "execution_count": null,
   "id": "integral-western",
   "metadata": {},
   "outputs": [],
   "source": [
    "df=df.drop(['id_mutation','adresse_nom_voie','adresse_numero','type_local','surface_terrain'],axis=1)"
   ]
  },
  {
   "cell_type": "code",
   "execution_count": null,
   "id": "fabulous-terminal",
   "metadata": {},
   "outputs": [],
   "source": [
    "df['date_mutation']=df['date_mutation'].astype('datetime64')\n",
    "df['date_mutation']=(df['date_mutation']-df['date_mutation'].min()) / np.timedelta64(1,'D')\n",
    "df.info()"
   ]
  },
  {
   "cell_type": "code",
   "execution_count": null,
   "id": "friendly-dominant",
   "metadata": {},
   "outputs": [],
   "source": [
    "df=df[df['code_postal'].notnull()]\n",
    "df.isnull().sum()"
   ]
  },
  {
   "cell_type": "code",
   "execution_count": null,
   "id": "amazing-making",
   "metadata": {},
   "outputs": [],
   "source": [
    "df.describe()"
   ]
  },
  {
   "cell_type": "code",
   "execution_count": null,
   "id": "sunrise-american",
   "metadata": {},
   "outputs": [],
   "source": [
    "plt.figure(figsize=(8,4))\n",
    "sns.displot(df['valeur_fonciere'])"
   ]
  },
  {
   "cell_type": "code",
   "execution_count": null,
   "id": "later-administrator",
   "metadata": {},
   "outputs": [],
   "source": [
    "plt.figure(figsize=(8,4))\n",
    "sns.displot(df['prix_m2'])"
   ]
  },
  {
   "cell_type": "code",
   "execution_count": null,
   "id": "exposed-installation",
   "metadata": {},
   "outputs": [],
   "source": [
    "plt.figure(figsize=(12,8))\n",
    "sns.scatterplot(x='longitude',y='latitude',data=df,hue='valeur_fonciere')"
   ]
  },
  {
   "cell_type": "code",
   "execution_count": null,
   "id": "robust-owner",
   "metadata": {},
   "outputs": [],
   "source": [
    "plt.figure(figsize=(12,8))\n",
    "sns.scatterplot(x='longitude',y='latitude',data=df,hue='prix_m2')"
   ]
  },
  {
   "cell_type": "code",
   "execution_count": null,
   "id": "major-vector",
   "metadata": {},
   "outputs": [],
   "source": [
    "df.corr()"
   ]
  },
  {
   "cell_type": "code",
   "execution_count": null,
   "id": "caring-complexity",
   "metadata": {},
   "outputs": [],
   "source": [
    "plt.figure(figsize=(10,8))\n",
    "sns.heatmap(df.corr(), annot=True)"
   ]
  },
  {
   "cell_type": "code",
   "execution_count": null,
   "id": "minute-crisis",
   "metadata": {},
   "outputs": [],
   "source": [
    "train_valeur_fonciere_numerical=df.drop(['prix_m2','adresse_code_voie','code_postal'],axis=1)\n",
    "train_valeur_fonciere_numerical.fillna(0,inplace=True)\n",
    "#train_prix_m2_numerical=df.drop(['valeur_fonciere','adresse_code_voie','code_postal'],axis=1)\n",
    "#train_prix_m2_numerical.fillna(0,inplace=True)\n",
    "train_categoric=df.drop(['date_mutation','valeur_fonciere','surface_carrez','nombre_lots','surface_reelle_bati','nombre_pieces_principales','longitude','latitude','prix_m2'],axis=1)\n",
    "train_categoric.fillna('NONE',inplace=True)"
   ]
  },
  {
   "cell_type": "code",
   "execution_count": null,
   "id": "greek-browse",
   "metadata": {},
   "outputs": [],
   "source": [
    "from sklearn.ensemble import IsolationForest\n",
    "clf=IsolationForest(max_samples=10000,random_state=17)\n",
    "clf.fit(train_valeur_fonciere_numerical)\n",
    "y_no_outlier=clf.predict(train_valeur_fonciere_numerical)\n",
    "y_no_outlier=pd.DataFrame(y_no_outlier,columns=['Top'])\n",
    "index_no_outliers=y_no_outlier[y_no_outlier['Top']==1].index.values"
   ]
  },
  {
   "cell_type": "code",
   "execution_count": null,
   "id": "hired-vessel",
   "metadata": {},
   "outputs": [],
   "source": [
    "train_valeur_fonciere_numerical=train_valeur_fonciere_numerical.iloc[index_no_outliers]\n",
    "train_valeur_fonciere_numerical.reset_index(drop=True, inplace=True)\n",
    "train_categoric=train_categoric.iloc[index_no_outliers]\n",
    "train_categoric.reset_index(drop=True, inplace=True)"
   ]
  },
  {
   "cell_type": "code",
   "execution_count": null,
   "id": "supreme-condition",
   "metadata": {},
   "outputs": [],
   "source": [
    "from sklearn.preprocessing import MinMaxScaler\n",
    "columns_list=list(train_valeur_fonciere_numerical.columns)\n",
    "columns_list.remove('valeur_fonciere')\n",
    "columns_to_normalize=np.matrix(train_valeur_fonciere_numerical.drop('valeur_fonciere',axis=1))\n",
    "normalizer=MinMaxScaler()\n",
    "normalizer.fit(columns_to_normalize)\n",
    "normalized_columns=pd.DataFrame(normalizer.transform(columns_to_normalize), columns=columns_list)\n",
    "train_valeur_fonciere_numerical[list(normalized_columns.columns)]=normalized_columns\n",
    "train_valeur_fonciere_numerical.head()"
   ]
  },
  {
   "cell_type": "code",
   "execution_count": null,
   "id": "sound-expense",
   "metadata": {},
   "outputs": [],
   "source": [
    "from sklearn.preprocessing import LabelEncoder\n",
    "le1=LabelEncoder()\n",
    "le2=LabelEncoder()\n",
    "le1.fit(train_categoric.adresse_code_voie)\n",
    "le2.fit(train_categoric.code_postal)\n",
    "train_categoric.code_postal=le2.transform(train_categoric.code_postal)\n",
    "train_categoric.adresse_code_voie=le1.transform(train_categoric.adresse_code_voie)\n",
    "train_categoric.head()"
   ]
  },
  {
   "cell_type": "code",
   "execution_count": null,
   "id": "editorial-opera",
   "metadata": {},
   "outputs": [],
   "source": [
    "train=train_valeur_fonciere_numerical.merge(train_categoric, left_index=True, right_index=True)"
   ]
  },
  {
   "cell_type": "code",
   "execution_count": null,
   "id": "dangerous-morgan",
   "metadata": {},
   "outputs": [],
   "source": [
    "train.info()"
   ]
  },
  {
   "cell_type": "code",
   "execution_count": null,
   "id": "mighty-livestock",
   "metadata": {},
   "outputs": [],
   "source": [
    "train.describe()"
   ]
  },
  {
   "cell_type": "code",
   "execution_count": null,
   "id": "republican-lawyer",
   "metadata": {},
   "outputs": [],
   "source": [
    "train.head()"
   ]
  },
  {
   "cell_type": "code",
   "execution_count": null,
   "id": "tough-adrian",
   "metadata": {},
   "outputs": [],
   "source": [
    "from sklearn.model_selection import train_test_split\n",
    "from tensorflow.keras.callbacks import EarlyStopping\n",
    "from tensorflow.keras.callbacks import Callback\n",
    "\n",
    "X_train, X_test, Y_train, Y_test = train_test_split(train.drop('valeur_fonciere',axis=1),train['valeur_fonciere'],test_size=0.3,random_state=17)\n",
    "\n",
    "\n",
    "early_stop=EarlyStopping(monitor='val_loss',mode='min',verbose=0,patience=10)\n",
    "class PrintDot(Callback):\n",
    "    def on_epoch_end(self, epoch, logs):\n",
    "        if epoch % 100 == 0: print('')\n",
    "        print('.', end='')"
   ]
  },
  {
   "cell_type": "code",
   "execution_count": null,
   "id": "adjacent-nature",
   "metadata": {},
   "outputs": [],
   "source": [
    "from tensorflow.keras.models import Sequential\n",
    "from tensorflow.keras.layers import Dense\n",
    "from tensorflow.keras.optimizers import Adam\n",
    "from tensorflow.keras.layers import Dropout\n",
    "\n",
    "model1 = Sequential()\n",
    "\n",
    "model1.add(Dense(8,activation='relu'))\n",
    "model1.add(Dropout(0.5))\n",
    "\n",
    "model1.add(Dense(3,activation='relu'))\n",
    "model1.add(Dropout(0.2))\n",
    "\n",
    "model1.add(Dense(1))\n",
    "\n",
    "model1.compile(optimizer='adam',loss='mse')"
   ]
  },
  {
   "cell_type": "code",
   "execution_count": null,
   "id": "computational-disease",
   "metadata": {},
   "outputs": [],
   "source": [
    "history1=model1.fit(x=X_train,y=Y_train.values,validation_data=(X_test,Y_test.values),batch_size=128,epochs=400,verbose=0,callbacks=[early_stop,PrintDot()])"
   ]
  },
  {
   "cell_type": "code",
   "execution_count": null,
   "id": "unexpected-exclusive",
   "metadata": {},
   "outputs": [],
   "source": [
    "losses1=pd.DataFrame(history1.history)\n",
    "predictions1=model1.predict(X_test)\n",
    "losses1.plot()"
   ]
  },
  {
   "cell_type": "code",
   "execution_count": null,
   "id": "logical-piano",
   "metadata": {},
   "outputs": [],
   "source": [
    "matplotlib.rc('xtick',labelsize=30)\n",
    "matplotlib.rc('ytick',labelsize=30)\n",
    "\n",
    "fig, ax=plt.subplots(figsize=(15,12))\n",
    "plt.style.use('ggplot')\n",
    "plt.plot(predictions1,Y_test.values,'ro')\n",
    "plt.xlabel('Predictions',fontsize=30)\n",
    "plt.ylabel('Real Price',fontsize=30)\n",
    "plt.title('Predictions VS Real Price')\n",
    "ax.plot([Y_test.values.min(),Y_test.max()],[Y_test.values.min(),Y_test.values.max()],'k--',lw=4)\n",
    "plt.show()"
   ]
  },
  {
   "cell_type": "code",
   "execution_count": null,
   "id": "interim-guinea",
   "metadata": {},
   "outputs": [],
   "source": [
    "model1.summary()"
   ]
  },
  {
   "cell_type": "code",
   "execution_count": null,
   "id": "theoretical-paintball",
   "metadata": {},
   "outputs": [],
   "source": [
    "model2 = Sequential()\n",
    "\n",
    "model2.add(Dense(64,activation='relu'))\n",
    "model2.add(Dropout(0.5))\n",
    "\n",
    "model2.add(Dense(32,activation='relu'))\n",
    "model2.add(Dropout(0.2))\n",
    "\n",
    "model2.add(Dense(16))\n",
    "\n",
    "model2.compile(optimizer='adam',loss='mse')"
   ]
  },
  {
   "cell_type": "code",
   "execution_count": null,
   "id": "realistic-effort",
   "metadata": {},
   "outputs": [],
   "source": [
    "early_stop=EarlyStopping(monitor='val_loss',mode='min',verbose=1,patience=10)\n",
    "history2=model2.fit(x=X_train,y=Y_train.values,validation_data=(X_test,Y_test.values),batch_size=128,verbose=0,epochs=400,callbacks=[early_stop,PrintDot()])"
   ]
  },
  {
   "cell_type": "code",
   "execution_count": null,
   "id": "native-interpretation",
   "metadata": {},
   "outputs": [],
   "source": [
    "losses2=pd.DataFrame(history2.history)\n",
    "predictions2=model2.predict(X_test)\n",
    "losses2.plot()"
   ]
  },
  {
   "cell_type": "code",
   "execution_count": null,
   "id": "perfect-drain",
   "metadata": {},
   "outputs": [],
   "source": [
    "matplotlib.rc('xtick',labelsize=30)\n",
    "matplotlib.rc('ytick',labelsize=30)\n",
    "\n",
    "fig, ax=plt.subplots(figsize=(15,12))\n",
    "plt.style.use('ggplot')\n",
    "plt.plot(predictions2,Y_test.values,'ro')\n",
    "plt.xlabel('Predictions',fontsize=30)\n",
    "plt.ylabel('Real Price',fontsize=30)\n",
    "plt.title('Predictions VS Real Price')\n",
    "ax.plot([Y_test.values.min(),Y_test.max()],[Y_test.values.min(),Y_test.values.max()],'k--',lw=4)\n",
    "plt.show()"
   ]
  },
  {
   "cell_type": "code",
   "execution_count": null,
   "id": "unlimited-kingston",
   "metadata": {},
   "outputs": [],
   "source": [
    "model1.save('model/model_bad')\n",
    "model2.save('model/model_good')"
   ]
  },
  {
   "cell_type": "code",
   "execution_count": null,
   "id": "expanded-travel",
   "metadata": {},
   "outputs": [],
   "source": []
  },
  {
   "cell_type": "code",
   "execution_count": null,
   "id": "blocked-adapter",
   "metadata": {},
   "outputs": [],
   "source": []
  },
  {
   "cell_type": "code",
   "execution_count": null,
   "id": "lucky-roller",
   "metadata": {},
   "outputs": [],
   "source": []
  }
 ],
 "metadata": {
  "kernelspec": {
   "display_name": "Python 3",
   "language": "python",
   "name": "python3"
  },
  "language_info": {
   "codemirror_mode": {
    "name": "ipython",
    "version": 3
   },
   "file_extension": ".py",
   "mimetype": "text/x-python",
   "name": "python",
   "nbconvert_exporter": "python",
   "pygments_lexer": "ipython3",
   "version": "3.7.9"
  }
 },
 "nbformat": 4,
 "nbformat_minor": 5
}
